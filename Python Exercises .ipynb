{
 "cells": [
  {
   "cell_type": "code",
   "execution_count": 1,
   "metadata": {},
   "outputs": [
    {
     "name": "stdout",
     "output_type": "stream",
     "text": [
      "answer value = 4\n",
      "-1\n",
      "answer value = 5\n",
      "0\n",
      "answer value = 6\n",
      "1\n"
     ]
    }
   ],
   "source": [
    "def greater_less_equal_5(answer):\n",
    "\tprint(\"answer value = \" + str(answer))\n",
    "\tif answer > 5:\n",
    "\t\treturn 1\n",
    "\telif answer < 5:          \n",
    "\t\treturn -1\n",
    "\telse:\n",
    "\t\treturn 0\n",
    "        \n",
    "print(str(greater_less_equal_5(4)))\n",
    "print(str(greater_less_equal_5(5)))\n",
    "print(str(greater_less_equal_5(6)))\n"
   ]
  },
  {
   "cell_type": "code",
   "execution_count": null,
   "metadata": {},
   "outputs": [],
   "source": []
  }
 ],
 "metadata": {
  "kernelspec": {
   "display_name": "Python 3",
   "language": "python",
   "name": "python3"
  },
  "language_info": {
   "codemirror_mode": {
    "name": "ipython",
    "version": 3
   },
   "file_extension": ".py",
   "mimetype": "text/x-python",
   "name": "python",
   "nbconvert_exporter": "python",
   "pygments_lexer": "ipython3",
   "version": "3.6.4"
  }
 },
 "nbformat": 4,
 "nbformat_minor": 2
}
