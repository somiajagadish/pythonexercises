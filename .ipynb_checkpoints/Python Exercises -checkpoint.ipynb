{
 "cells": [
  {
   "cell_type": "code",
   "execution_count": 1,
   "metadata": {},
   "outputs": [
    {
     "name": "stdout",
     "output_type": "stream",
     "text": [
      "answer value = 4\n",
      "-1\n",
      "answer value = 5\n",
      "0\n",
      "answer value = 6\n",
      "1\n"
     ]
    }
   ],
   "source": [
    "def greater_less_equal_5(answer):\n",
    "\tprint(\"answer value = \" + str(answer))\n",
    "\tif answer > 5:\n",
    "\t\treturn 1\n",
    "\telif answer < 5:          \n",
    "\t\treturn -1\n",
    "\telse:\n",
    "\t\treturn 0\n",
    "        \n",
    "print(str(greater_less_equal_5(4)))\n",
    "print(str(greater_less_equal_5(5)))\n",
    "print(str(greater_less_equal_5(6)))\n"
   ]
  },
  {
   "cell_type": "code",
   "execution_count": 1,
   "metadata": {},
   "outputs": [],
   "source": [
    "def hotel_cost(nights):\n",
    "  return 140 * nights\n",
    "\n",
    "def plane_ride_cost(city):\n",
    "  if city == \"Charlotte\":\n",
    "    return 183\n",
    "  elif city == \"Tampa\":\n",
    "    return 220\n",
    "  elif city == \"Pittsburgh\":\n",
    "    return 222\n",
    "  elif city == \"Los Angeles\":\n",
    "    return 475\n",
    "\n",
    "def rental_car_cost(days):\n",
    "  cost = days * 40\n",
    "  if days >= 7:\n",
    "    cost -= 50\n",
    "  elif days >= 3:\n",
    "    cost -= 20\n",
    "  return cost\n",
    "\n",
    "def trip_cost(city, days):\n",
    "  return rental_car_cost(days) + hotel_cost(days - 1) + plane_ride_cost(city)\n",
    "  "
   ]
  },
  {
   "cell_type": "code",
   "execution_count": 2,
   "metadata": {},
   "outputs": [
    {
     "name": "stdout",
     "output_type": "stream",
     "text": [
      "1290\n"
     ]
    }
   ],
   "source": [
    "  t = trip_cost(\"Tampa\",7)\n",
    "  print(t)"
   ]
  },
  {
   "cell_type": "code",
   "execution_count": 3,
   "metadata": {},
   "outputs": [
    {
     "name": "stdout",
     "output_type": "stream",
     "text": [
      "157493\n"
     ]
    }
   ],
   "source": [
    "  t = trip_cost(\"Charlotte\",875)\n",
    "  print(t)"
   ]
  },
  {
   "cell_type": "code",
   "execution_count": 4,
   "metadata": {},
   "outputs": [
    {
     "name": "stdout",
     "output_type": "stream",
     "text": [
      "5432\n"
     ]
    }
   ],
   "source": [
    "  t = trip_cost(\"Pittsburgh\",30)\n",
    "  print(t)"
   ]
  },
  {
   "cell_type": "code",
   "execution_count": 1,
   "metadata": {},
   "outputs": [
    {
     "name": "stdout",
     "output_type": "stream",
     "text": [
      "14.5\n",
      "There are 4 items on the menu.\n",
      "{'Chicken Alfredo': 14.5, 'French fries': 1.1, 'Ice-cream': 1.2, 'Taco': 2.0}\n"
     ]
    }
   ],
   "source": [
    "menu = {} # Empty dictionary\n",
    "menu['Chicken Alfredo'] = 14.50 # Adding new key-value pair\n",
    "print(menu['Chicken Alfredo'])\n",
    "\n",
    "# Your code here: Add some dish-price pairs to menu!\n",
    "menu['French fries'] = 1.10\n",
    "menu['Ice-cream'] = 1.20\n",
    "menu['Taco'] = 2.00\n",
    "\n",
    "\n",
    "\n",
    "print(\"There are \" + str(len(menu)) + \" items on the menu.\")\n",
    "print(menu)"
   ]
  },
  {
   "cell_type": "code",
   "execution_count": 2,
   "metadata": {},
   "outputs": [
    {
     "name": "stdout",
     "output_type": "stream",
     "text": [
      "{'Atlantic Puffin': 'Arctic Exhibit', 'Rockhopper Penguin': 'Penguin Exhibit'}\n"
     ]
    }
   ],
   "source": [
    "# key - animal_name : value - location \n",
    "zoo_animals = { 'Unicorn' : 'Cotton Candy House',\n",
    "'Sloth' : 'Rainforest Exhibit',\n",
    "'Bengal Tiger' : 'Jungle House',\n",
    "'Atlantic Puffin' : 'Arctic Exhibit',\n",
    "'Rockhopper Penguin' : 'Arctic Exhibit'}\n",
    "# A dictionary (or list) declaration may break across multiple lines\n",
    "\n",
    "# Removing the 'Unicorn' entry. (Unicorns are incredibly expensive.)\n",
    "del zoo_animals['Unicorn']\n",
    "\n",
    "# Your code here!\n",
    "del zoo_animals['Sloth']\n",
    "del zoo_animals['Bengal Tiger']\n",
    "zoo_animals['Rockhopper Penguin'] = 'Penguin Exhibit'\n",
    "\n",
    "print(zoo_animals)"
   ]
  },
  {
   "cell_type": "code",
   "execution_count": 3,
   "metadata": {},
   "outputs": [
    {
     "name": "stdout",
     "output_type": "stream",
     "text": [
      "['xylophone', 'tent', 'bread loaf']\n"
     ]
    }
   ],
   "source": [
    "backpack = ['xylophone', 'dagger', 'tent', 'bread loaf']\n",
    "backpack.remove(\"dagger\")\n",
    "print(backpack)"
   ]
  },
  {
   "cell_type": "code",
   "execution_count": 2,
   "metadata": {},
   "outputs": [
    {
     "name": "stdout",
     "output_type": "stream",
     "text": [
      "{'gold': 550, 'pouch': ['flint', 'gemstone', 'twine'], 'backpack': ['bedroll', 'bread loaf', 'xylophone'], 'burlap bag': ['apple', 'small ruby', 'three-toed sloth'], 'pocket': ['seashell', 'strange berry', 'lint']}\n"
     ]
    }
   ],
   "source": [
    "inventory = {\n",
    "  'gold' : 500,\n",
    "  'pouch' : ['flint', 'twine', 'gemstone'], # Assigned a new list to 'pouch' key\n",
    "  'backpack' : ['xylophone','dagger', 'bedroll','bread loaf']\n",
    "}\n",
    "\n",
    "# Adding a key 'burlap bag' and assigning a list to it\n",
    "inventory['burlap bag'] = ['apple', 'small ruby', 'three-toed sloth']\n",
    "\n",
    "# Sorting the list found under the key 'pouch'\n",
    "inventory['pouch'].sort() \n",
    "\n",
    "# Your code here\n",
    "inventory['pocket'] = ['seashell','strange berry','lint']\n",
    "inventory['backpack'].sort()\n",
    "inventory[\"backpack\"].remove(\"dagger\")\n",
    "inventory['gold']=550\n",
    "print(inventory)"
   ]
  },
  {
   "cell_type": "code",
   "execution_count": null,
   "metadata": {},
   "outputs": [],
   "source": []
  }
 ],
 "metadata": {
  "kernelspec": {
   "display_name": "Python 3",
   "language": "python",
   "name": "python3"
  },
  "language_info": {
   "codemirror_mode": {
    "name": "ipython",
    "version": 3
   },
   "file_extension": ".py",
   "mimetype": "text/x-python",
   "name": "python",
   "nbconvert_exporter": "python",
   "pygments_lexer": "ipython3",
   "version": "3.6.4"
  }
 },
 "nbformat": 4,
 "nbformat_minor": 2
}
